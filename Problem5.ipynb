{
 "cells": [
  {
   "cell_type": "markdown",
   "metadata": {},
   "source": [
    "### Linear Regression"
   ]
  },
  {
   "cell_type": "code",
   "execution_count": 1,
   "metadata": {},
   "outputs": [],
   "source": [
    "# Imports\n",
    "from mpl_toolkits.mplot3d import Axes3D\n",
    "import numpy as np\n",
    "import pandas\n",
    "import math\n",
    "import matplotlib.pyplot as plt\n",
    "\n",
    "from sklearn.linear_model import LinearRegression"
   ]
  },
  {
   "cell_type": "code",
   "execution_count": 2,
   "metadata": {},
   "outputs": [],
   "source": [
    "#BIC for Linear Regression\n",
    "def bic(n, rss, q):\n",
    "    # Degrees of freedom is equal to number of parameters + 2 (the + 2 accounts for our additional free variables, being intercept and variance)\n",
    "    k = q + 2\n",
    "    return n * math.log(rss / n) + k * math.log(n)\n"
   ]
  },
  {
   "cell_type": "markdown",
   "metadata": {},
   "source": [
    "### Problem 5A"
   ]
  },
  {
   "cell_type": "code",
   "execution_count": 3,
   "metadata": {},
   "outputs": [
    {
     "name": "stdout",
     "output_type": "stream",
     "text": [
      "*** No CODEPAGE record, no encoding_override: will use 'ascii'\n",
      "Residual sum of squares for classifer based on X1: 1456.18\n",
      "BIC:  111.27397294939045\n",
      "Residual sum of squares for classifer based on X2: 1888.14\n",
      "BIC:  117.76847207730296\n",
      "Residual sum of squares for classifer based on X3: 757.28\n",
      "BIC:  94.92820649521937\n"
     ]
    },
    {
     "data": {
      "image/png": "[encoded data removed]",
      "text/plain": [
       "<Figure size 432x288 with 1 Axes>"
      ]
     },
     "metadata": {
      "needs_background": "light"
     },
     "output_type": "display_data"
    },
    {
     "data": {
      "image/png": "[encoded data removed]",
      "text/plain": [
       "<Figure size 432x288 with 1 Axes>"
      ]
     },
     "metadata": {
      "needs_background": "light"
     },
     "output_type": "display_data"
    },
    {
     "data": {
      "image/png": "[encoded data removed]",
      "text/plain": [
       "<Figure size 432x288 with 1 Axes>"
      ]
     },
     "metadata": {
      "needs_background": "light"
     },
     "output_type": "display_data"
    }
   ],
   "source": [
    "# Load data\n",
    "data = pandas.read_excel('data.xls')\n",
    "\n",
    "X1 = data.to_numpy()[:, 0].reshape(-1, 1)\n",
    "X2 = data.to_numpy()[:, 1].reshape(-1, 1)\n",
    "X3 = data.to_numpy()[:, 2].reshape(-1, 1)\n",
    "y = data.to_numpy()[:, 3]\n",
    "labels = [\"X1\", \"X2\", \"X3\"]\n",
    "idx = 0\n",
    "# Iterate through different X values and fit linear predictors based off of them\n",
    "for X in [X1, X2, X3]:\n",
    "    model = LinearRegression()\n",
    "    model.fit(X.reshape(-1, 1), y)\n",
    "    \n",
    "    y_predict = model.predict(X.reshape(-1, 1) )\n",
    "\n",
    "    plt.figure()\n",
    "    plt.scatter(X[:, 0], y_predict)\n",
    "    plt.scatter(X[:, 0], y)\n",
    "    rss = ((y - y_predict) ** 2).sum()\n",
    "    print(\"Residual sum of squares for classifer based on %s: %.2f\"% (labels[idx], rss))\n",
    "    print(\"BIC: \", bic(len(y), rss, 1))\n",
    "    idx += 1\n"
   ]
  },
  {
   "cell_type": "markdown",
   "metadata": {},
   "source": [
    "### Problem 5B"
   ]
  },
  {
   "cell_type": "code",
   "execution_count": 4,
   "metadata": {},
   "outputs": [
    {
     "name": "stdout",
     "output_type": "stream",
     "text": [
      "Residual sum of squares for classifer based on X1, X2: 1020.74\n",
      "BIC:  105.6107058955927\n",
      "Residual sum of squares for classifer based on X1, X3: 341.12\n",
      "BIC:  78.20938820935169\n",
      "Residual sum of squares for classifer based on X2, X3: 202.17\n",
      "BIC:  65.13193847609297\n"
     ]
    }
   ],
   "source": [
    "# Iterate through different X values and fit linear predictors based off of them\n",
    "X1X2 = data.to_numpy()[:, 0:2]\n",
    "X1X3 = data.to_numpy()[:, 0:3:2]\n",
    "X2X3 = data.to_numpy()[:, 1:3]\n",
    "labels = [\"X1, X2\", \"X1, X3\", \"X2, X3\"]\n",
    "idx = 0\n",
    "\n",
    "for X in [X1X2, X1X3, X2X3]:\n",
    "    model = LinearRegression()\n",
    "    model.fit(X, y)\n",
    "    y_predict = model.predict(X)\n",
    "    rss = ((y - y_predict) ** 2).sum()\n",
    "    print(\"Residual sum of squares for classifer based on %s: %.2f\"% (labels[idx], rss))\n",
    "    print(\"BIC: \", bic(len(y), rss, 2))\n",
    "    idx += 1\n"
   ]
  },
  {
   "cell_type": "markdown",
   "metadata": {},
   "source": [
    "### Problem 5C"
   ]
  },
  {
   "cell_type": "code",
   "execution_count": 5,
   "metadata": {},
   "outputs": [
    {
     "name": "stdout",
     "output_type": "stream",
     "text": [
      "Residual sum of squares for classifer based on X1, X2, X3: 143.45\n",
      "BIC:  59.771306791880484\n"
     ]
    }
   ],
   "source": [
    "X = data.to_numpy()[:, :-1]\n",
    "model = LinearRegression()\n",
    "model.fit(X, y)\n",
    "y_predict = model.predict(X)\n",
    "rss = ((y - y_predict) ** 2).sum()\n",
    "print(\"Residual sum of squares for classifer based on X1, X2, X3: %.2f\"% ((y - y_predict) ** 2).sum()) \n",
    "print(\"BIC: \", bic(len(y), rss, 3))"
   ]
  },
  {
   "cell_type": "markdown",
   "metadata": {},
   "source": [
    "### Problem 5D\n",
    "The model constructed in Part C, which uses all 3 variables, is the best model because it has the lowest RSS (143.45) of any model (compared to the next best model at 202.17). If we perform the Bayes Factor calculation with the 3-variable model BIC and any of the other models BIC, we find that the resulting value supports the selection of the model using all 3 variables. For the next best model, we still find weak evidence for the 3-variable model."
   ]
  },
  {
   "cell_type": "code",
   "execution_count": null,
   "metadata": {},
   "outputs": [],
   "source": []
  }
 ],
 "metadata": {
  "kernelspec": {
   "display_name": "Python 3",
   "language": "python",
   "name": "python3"
  },
  "language_info": {
   "codemirror_mode": {
    "name": "ipython",
    "version": 3
   },
   "file_extension": ".py",
   "mimetype": "text/x-python",
   "name": "python",
   "nbconvert_exporter": "python",
   "pygments_lexer": "ipython3",
   "version": "3.6.7"
  }
 },
 "nbformat": 4,
 "nbformat_minor": 4
}
