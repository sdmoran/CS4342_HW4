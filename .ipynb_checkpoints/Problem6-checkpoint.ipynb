{
 "cells": [
  {
   "cell_type": "markdown",
   "metadata": {},
   "source": [
    "## Problem 6"
   ]
  },
  {
   "cell_type": "code",
   "execution_count": 1,
   "metadata": {},
   "outputs": [],
   "source": [
    "# Imports\n",
    "from mpl_toolkits.mplot3d import Axes3D\n",
    "import numpy as np\n",
    "import pandas\n",
    "import math\n",
    "import matplotlib.pyplot as plt\n",
    "\n",
    "from sklearn.metrics import classification_report, confusion_matrix\n",
    "from sklearn.linear_model import LogisticRegression\n",
    "from sklearn.preprocessing import StandardScaler"
   ]
  },
  {
   "cell_type": "code",
   "execution_count": 11,
   "metadata": {},
   "outputs": [
    {
     "name": "stdout",
     "output_type": "stream",
     "text": [
      "*** No CODEPAGE record, no encoding_override: will use 'ascii'\n",
      "Confusion matrix: \n",
      "[[11  1]\n",
      " [ 1 12]]\n",
      "BIC:  8.758778070757323\n",
      "Confusion matrix: \n",
      "[[10  2]\n",
      " [ 2 11]]\n",
      "BIC:  13.87588718959119\n",
      "Confusion matrix: \n",
      "[[12  0]\n",
      " [ 0 13]]\n",
      "BIC:  3.6158410859756875\n"
     ]
    }
   ],
   "source": [
    "# Load data\n",
    "data = pandas.read_excel('data.xls')\n",
    "\n",
    "X1 = data.to_numpy()[:, 0].reshape(-1, 1)\n",
    "X2 = data.to_numpy()[:, 1].reshape(-1, 1)\n",
    "X3 = data.to_numpy()[:, 2].reshape(-1, 1)\n",
    "y = data.to_numpy()[:, 3]\n",
    "\n",
    "# For logistic regression, our \"true\" case is when the value of the final exam is >=160.\n",
    "y = [1 if i >= 160 else 0 for i in y]\n",
    "\n",
    "# Iterate through different X values and fit logistic predictors based off of them\n",
    "for X in [X1, X2, X3]:\n",
    "    model = LogisticRegression(solver=\"lbfgs\")\n",
    "    model.fit(X, y)\n",
    "    y_predict = model.predict(X)\n",
    "    print(\"Confusion matrix: \")\n",
    "    print(confusion_matrix(y_predict, y))\n",
    "    \n",
    "    # Calculate likelihood\n",
    "    proba = 0\n",
    "    for p in model.predict_proba(X):\n",
    "        proba += math.log(max(p)) # For each value, sum the logs of probabilities of the predicted class (class that datapoint has the most probability of being in)\n",
    "    # Multiply likelihood by -2 and add dof*log(n) to get BIC. 1 degree of freedom here.\n",
    "    bic = -2 * proba + 1 * math.log(len(y))\n",
    "    print(\"BIC: \", bic)\n",
    "\n"
   ]
  },
  {
   "cell_type": "markdown",
   "metadata": {},
   "source": [
    "### Problem 6B"
   ]
  },
  {
   "cell_type": "code",
   "execution_count": 12,
   "metadata": {},
   "outputs": [
    {
     "name": "stdout",
     "output_type": "stream",
     "text": [
      "Confusion matrix: \n",
      "[[11  1]\n",
      " [ 1 12]]\n",
      "BIC:  11.915751795022299\n",
      "Confusion matrix: \n",
      "[[12  0]\n",
      " [ 0 13]]\n",
      "BIC:  6.766577115595288\n",
      "Confusion matrix: \n",
      "[[12  0]\n",
      " [ 0 13]]\n",
      "BIC:  6.779364072584452\n"
     ]
    }
   ],
   "source": [
    "# Iterate through different X values and fit linear predictors based off of them\n",
    "X1X2 = data.to_numpy()[:, 0:2]\n",
    "X1X3 = data.to_numpy()[:, 0:3:2]\n",
    "X2X3 = data.to_numpy()[:, 1:3]\n",
    "\n",
    "for X in [X1X2, X1X3, X2X3]:\n",
    "    model = LogisticRegression(solver='lbfgs')\n",
    "    model.fit(X, y)\n",
    "    y_predict = model.predict(X)\n",
    "    print(\"Confusion matrix: \")\n",
    "    print(confusion_matrix(y_predict, y))\n",
    "    \n",
    "    # Calculate likelihood\n",
    "    proba = 0\n",
    "    for p in model.predict_proba(X):\n",
    "        proba += math.log(max(p)) # For each value, sum the logs of probabilities of the predicted class (class that datapoint has the most probability of being in)\n",
    "    # Multiply likelihood by -2 and add dof*log(n) to get BIC. 2 degrees of freedom here.\n",
    "    bic = -2 * proba + 2 * math.log(len(y))\n",
    "    print(\"BIC: \", bic)\n",
    "\n",
    "    "
   ]
  },
  {
   "cell_type": "markdown",
   "metadata": {},
   "source": [
    "### Problem 6C"
   ]
  },
  {
   "cell_type": "code",
   "execution_count": 13,
   "metadata": {},
   "outputs": [
    {
     "name": "stdout",
     "output_type": "stream",
     "text": [
      "Confusion matrix:\n",
      "[[12  0]\n",
      " [ 0 13]]\n",
      "BIC:  9.979839820466438\n"
     ]
    }
   ],
   "source": [
    "X = data.to_numpy()[:, :-1]\n",
    "model = LogisticRegression(solver='lbfgs')\n",
    "model.fit(X, y)\n",
    "y_predict = model.predict(X)\n",
    "\n",
    "print(\"Confusion matrix:\")\n",
    "print(confusion_matrix(y_predict, y))\n",
    "\n",
    "# Calculate likelihood\n",
    "proba = 0\n",
    "for p in model.predict_proba(X):\n",
    "    proba += math.log(max(p)) # For each value, sum the logs of probabilities of the predicted class (class that datapoint has the most probability of being in)\n",
    "# Multiply likelihood by -2 and add dof*log(n) to get BIC. 3 degrees of freedom here.\n",
    "bic = -2 * proba + 3 * math.log(len(y))\n",
    "print(\"BIC: \", bic)\n"
   ]
  },
  {
   "cell_type": "markdown",
   "metadata": {},
   "source": [
    "### Problem 6D\n",
    "In the case of logistic regression with the threshold for passing set at 160, all models that include X3 correctly classify all points in the data set. Based on the BIC, which is strongly affected by the degrees of freedom here, the model based ONLY on X3 is the best choice because it has the lowest BIC and correctly classifies all points in the dataset. (Other models also correctly classify all points in the dataset, but they are more complicated and have higher BICs, which makes them less desirable, so the X3 only predictor is our best choice)."
   ]
  },
  {
   "cell_type": "code",
   "execution_count": null,
   "metadata": {},
   "outputs": [],
   "source": []
  }
 ],
 "metadata": {
  "kernelspec": {
   "display_name": "Python 3",
   "language": "python",
   "name": "python3"
  },
  "language_info": {
   "codemirror_mode": {
    "name": "ipython",
    "version": 3
   },
   "file_extension": ".py",
   "mimetype": "text/x-python",
   "name": "python",
   "nbconvert_exporter": "python",
   "pygments_lexer": "ipython3",
   "version": "3.6.7"
  }
 },
 "nbformat": 4,
 "nbformat_minor": 4
}
