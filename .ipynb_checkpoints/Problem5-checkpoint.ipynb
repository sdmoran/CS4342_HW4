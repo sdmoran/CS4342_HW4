{
 "cells": [
  {
   "cell_type": "markdown",
   "metadata": {},
   "source": [
    "### Linear Regression"
   ]
  },
  {
   "cell_type": "code",
   "execution_count": 1,
   "metadata": {},
   "outputs": [],
   "source": [
    "# Imports\n",
    "from mpl_toolkits.mplot3d import Axes3D\n",
    "import numpy as np\n",
    "import pandas\n",
    "import matplotlib.pyplot as plt\n",
    "\n",
    "from sklearn.linear_model import LinearRegression\n"
   ]
  },
  {
   "cell_type": "markdown",
   "metadata": {},
   "source": [
    "### Problem 5A"
   ]
  },
  {
   "cell_type": "code",
   "execution_count": 2,
   "metadata": {},
   "outputs": [
    {
     "name": "stdout",
     "output_type": "stream",
     "text": [
      "*** No CODEPAGE record, no encoding_override: will use 'ascii'\n",
      "[150.85117271 187.90026969 180.4904503  193.45763424 150.85117271\n",
      " 113.80207573 143.44135332 102.68734664 176.7855406  161.96590181\n",
      " 143.44135332 145.29380817 187.90026969 161.96590181 145.29380817\n",
      " 187.90026969 160.11344696 165.6708115  178.63799545 160.11344696\n",
      " 167.52326635 174.93308575 160.11344696 156.40853726 193.45763424]\n"
     ]
    },
    {
     "ename": "NameError",
     "evalue": "name 'sns' is not defined",
     "output_type": "error",
     "traceback": [
      "\u001b[1;31m---------------------------------------------------------------------------\u001b[0m",
      "\u001b[1;31mNameError\u001b[0m                                 Traceback (most recent call last)",
      "\u001b[1;32m<ipython-input-2-d6bd01a913a2>\u001b[0m in \u001b[0;36m<module>\u001b[1;34m\u001b[0m\n\u001b[0;32m     16\u001b[0m \u001b[1;33m\u001b[0m\u001b[0m\n\u001b[0;32m     17\u001b[0m     \u001b[0mplt\u001b[0m\u001b[1;33m.\u001b[0m\u001b[0mfigure\u001b[0m\u001b[1;33m(\u001b[0m\u001b[1;33m)\u001b[0m\u001b[1;33m\u001b[0m\u001b[1;33m\u001b[0m\u001b[0m\n\u001b[1;32m---> 18\u001b[1;33m     \u001b[0msns\u001b[0m\u001b[1;33m.\u001b[0m\u001b[0mscatterplot\u001b[0m\u001b[1;33m(\u001b[0m\u001b[0mX\u001b[0m\u001b[1;33m[\u001b[0m\u001b[1;33m:\u001b[0m\u001b[1;33m,\u001b[0m \u001b[1;36m0\u001b[0m\u001b[1;33m]\u001b[0m\u001b[1;33m,\u001b[0m \u001b[0my_predict\u001b[0m\u001b[1;33m)\u001b[0m\u001b[1;33m\u001b[0m\u001b[1;33m\u001b[0m\u001b[0m\n\u001b[0m\u001b[0;32m     19\u001b[0m     \u001b[0msns\u001b[0m\u001b[1;33m.\u001b[0m\u001b[0mscatterplot\u001b[0m\u001b[1;33m(\u001b[0m\u001b[0mX\u001b[0m\u001b[1;33m[\u001b[0m\u001b[1;33m:\u001b[0m\u001b[1;33m,\u001b[0m \u001b[1;36m0\u001b[0m\u001b[1;33m]\u001b[0m\u001b[1;33m,\u001b[0m \u001b[0my\u001b[0m\u001b[1;33m)\u001b[0m\u001b[1;33m\u001b[0m\u001b[1;33m\u001b[0m\u001b[0m\n",
      "\u001b[1;31mNameError\u001b[0m: name 'sns' is not defined"
     ]
    },
    {
     "data": {
      "text/plain": [
       "<Figure size 432x288 with 0 Axes>"
      ]
     },
     "metadata": {},
     "output_type": "display_data"
    }
   ],
   "source": [
    "# Load data\n",
    "data = pandas.read_excel('data.xls')\n",
    "\n",
    "X1 = data.to_numpy()[:, 0].reshape(-1, 1)\n",
    "X2 = data.to_numpy()[:, 1].reshape(-1, 1)\n",
    "X3 = data.to_numpy()[:, 2].reshape(-1, 1)\n",
    "y = data.to_numpy()[:, 3]\n",
    "\n",
    "# Iterate through different X values and fit linear predictors based off of them\n",
    "for X in [X1, X2, X3]:\n",
    "    model = LinearRegression()\n",
    "    model.fit(X.reshape(-1, 1), y)\n",
    "    \n",
    "    y_predict = model.predict(X.reshape(-1, 1))\n",
    "    print(y_predict)\n",
    "\n",
    "    plt.figure()\n",
    "    plt.scatter(X[:, 0], y_predict)\n",
    "    plt.scatter(X[:, 0], y)\n"
   ]
  },
  {
   "cell_type": "markdown",
   "metadata": {},
   "source": [
    "### Problem 5B"
   ]
  },
  {
   "cell_type": "code",
   "execution_count": null,
   "metadata": {},
   "outputs": [],
   "source": [
    "# Iterate through different X values and fit linear predictors based off of them\n",
    "X1X2 = data.to_numpy()[:, 0:2]\n",
    "X1X3 = data.to_numpy()[:, 0:3:2]\n",
    "X2X3 = data.to_numpy()[:, 1:3]\n",
    "\n",
    "# print(X1X2)\n",
    "# print(X1X3)\n",
    "# print(X2X3)\n",
    "\n",
    "for X in [X1X2, X1X3, X2X3]:\n",
    "    model = LinearRegression()\n",
    "    model.fit(X, y)\n",
    "    y_predict = model.predict(X)\n",
    "    print(y_predict)\n",
    "    print(\"Residual sum of squares: %.2f\"% ((y - y_predict) ** 2).sum()) \n"
   ]
  },
  {
   "cell_type": "markdown",
   "metadata": {},
   "source": [
    "### Problem 5C"
   ]
  },
  {
   "cell_type": "code",
   "execution_count": null,
   "metadata": {},
   "outputs": [],
   "source": [
    "X = data.to_numpy()[:, :]\n",
    "model = LinearRegression()\n",
    "model.fit(X, y)\n",
    "y_predict = model.predict(X)\n",
    "print(y_predict)\n",
    "print(\"Residual sum of squares: %.2f\"% ((y - y_predict) ** 2).sum()) \n"
   ]
  },
  {
   "cell_type": "markdown",
   "metadata": {},
   "source": []
  },
  {
   "cell_type": "code",
   "execution_count": null,
   "metadata": {},
   "outputs": [],
   "source": []
  }
 ],
 "metadata": {
  "kernelspec": {
   "display_name": "Python 3",
   "language": "python",
   "name": "python3"
  },
  "language_info": {
   "codemirror_mode": {
    "name": "ipython",
    "version": 3
   },
   "file_extension": ".py",
   "mimetype": "text/x-python",
   "name": "python",
   "nbconvert_exporter": "python",
   "pygments_lexer": "ipython3",
   "version": "3.6.7"
  }
 },
 "nbformat": 4,
 "nbformat_minor": 4
}
