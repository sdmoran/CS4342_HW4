{
 "cells": [
  {
   "cell_type": "code",
   "execution_count": 1,
   "metadata": {},
   "outputs": [],
   "source": [
    "import random\n",
    "from scipy.stats import norm\n",
    "import numpy as np\n",
    "import math\n",
    "import matplotlib.pyplot as plt\n",
    "\n",
    "# Data\n",
    "X = [3, 5, 7, 18, 43, 85, 91, 98, 100, 130, 230, 487]"
   ]
  },
  {
   "cell_type": "markdown",
   "metadata": {},
   "source": [
    "### Problem 3A, B, and C"
   ]
  },
  {
   "cell_type": "code",
   "execution_count": 2,
   "metadata": {},
   "outputs": [
    {
     "name": "stdout",
     "output_type": "stream",
     "text": [
      "Log Sample Mean:  4.595304764191696\n",
      "Log Sample standard error:  0.4109445643286844\n"
     ]
    },
    {
     "data": {
      "image/png": "[encoded data removed]",
      "text/plain": [
       "<Figure size 432x288 with 1 Axes>"
      ]
     },
     "metadata": {
      "needs_background": "light"
     },
     "output_type": "display_data"
    }
   ],
   "source": [
    "# Part A: Build sample mean distribution for S=1000, N=10 datapoints per sample\n",
    "means = []\n",
    "for i in range(1000):\n",
    "    s = []\n",
    "    for i in range(10):\n",
    "        s.append(random.choice(X))\n",
    "    means.append(math.log(sum(s)/len(s)))\n",
    "\n",
    "# Parts B and C: Find Mu and Sigma of the bootstrap sample\n",
    "mu, sigma = norm.fit(means)\n",
    "\n",
    "dist = np.random.normal(mu, sigma, 1000)\n",
    "plt.hist(dist)\n",
    "\n",
    "print(\"Log Sample Mean: \", mu)\n",
    "print(\"Log Sample standard error: \", sigma)"
   ]
  },
  {
   "cell_type": "markdown",
   "metadata": {},
   "source": [
    "### Problem 3D"
   ]
  },
  {
   "cell_type": "code",
   "execution_count": 3,
   "metadata": {},
   "outputs": [
    {
     "name": "stdout",
     "output_type": "stream",
     "text": [
      "Difference between log sample and data mean:  -0.08759777033674698\n"
     ]
    }
   ],
   "source": [
    "# Calculate log data mean\n",
    "data_mean = math.log(np.mean(X))\n",
    "print(\"Difference between log sample and data mean: \", mu - data_mean)"
   ]
  },
  {
   "cell_type": "markdown",
   "metadata": {},
   "source": [
    "### Problem 3E"
   ]
  },
  {
   "cell_type": "code",
   "execution_count": 4,
   "metadata": {},
   "outputs": [
    {
     "name": "stdout",
     "output_type": "stream",
     "text": [
      "95% Confidence Interval: (4.569834156210949, 4.620775372172443)\n"
     ]
    }
   ],
   "source": [
    "# Calculate confidence interval, Z-score for 95% is 1.96\n",
    "ci = 1.96 * sigma / math.sqrt(1000)\n",
    "print(f\"95% Confidence Interval: ({mu-ci}, {mu+ci})\")"
   ]
  },
  {
   "cell_type": "code",
   "execution_count": null,
   "metadata": {},
   "outputs": [],
   "source": []
  }
 ],
 "metadata": {
  "kernelspec": {
   "display_name": "Python 3",
   "language": "python",
   "name": "python3"
  },
  "language_info": {
   "codemirror_mode": {
    "name": "ipython",
    "version": 3
   },
   "file_extension": ".py",
   "mimetype": "text/x-python",
   "name": "python",
   "nbconvert_exporter": "python",
   "pygments_lexer": "ipython3",
   "version": "3.6.7"
  }
 },
 "nbformat": 4,
 "nbformat_minor": 4
}
