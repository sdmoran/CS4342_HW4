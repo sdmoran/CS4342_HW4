{
 "cells": [
  {
   "cell_type": "markdown",
   "metadata": {},
   "source": [
    "## Problem 6"
   ]
  },
  {
   "cell_type": "code",
   "execution_count": 9,
   "metadata": {},
   "outputs": [],
   "source": [
    "# Imports\n",
    "from mpl_toolkits.mplot3d import Axes3D\n",
    "import numpy as np\n",
    "import pandas\n",
    "import seaborn as sns\n",
    "import matplotlib.pyplot as plt\n",
    "\n",
    "from sklearn.metrics import classification_report\n",
    "from sklearn.linear_model import LogisticRegression"
   ]
  },
  {
   "cell_type": "code",
   "execution_count": 6,
   "metadata": {},
   "outputs": [
    {
     "name": "stdout",
     "output_type": "stream",
     "text": [
      "*** No CODEPAGE record, no encoding_override: will use 'ascii'\n",
      "[175 175 175 175 175 175 175 175 175 175 175 175 175 175 175 175 175 175\n",
      " 175 175 175 175 175 175 175]\n",
      "[175 175 175 175 175 175 175 175 175 175 175 175 175 175 175 175 175 175\n",
      " 175 175 175 175 175 175 175]\n",
      "[175 175 175 175 175 175 175 175 175 175 175 175 175 175 175 175 175 175\n",
      " 175 175 175 175 175 175 175]\n"
     ]
    },
    {
     "name": "stderr",
     "output_type": "stream",
     "text": [
      "c:\\program files (x86)\\python36-32\\lib\\site-packages\\sklearn\\linear_model\\logistic.py:432: FutureWarning: Default solver will be changed to 'lbfgs' in 0.22. Specify a solver to silence this warning.\n",
      "  FutureWarning)\n",
      "c:\\program files (x86)\\python36-32\\lib\\site-packages\\sklearn\\linear_model\\logistic.py:469: FutureWarning: Default multi_class will be changed to 'auto' in 0.22. Specify the multi_class option to silence this warning.\n",
      "  \"this warning.\", FutureWarning)\n",
      "c:\\program files (x86)\\python36-32\\lib\\site-packages\\sklearn\\linear_model\\logistic.py:432: FutureWarning: Default solver will be changed to 'lbfgs' in 0.22. Specify a solver to silence this warning.\n",
      "  FutureWarning)\n",
      "c:\\program files (x86)\\python36-32\\lib\\site-packages\\sklearn\\linear_model\\logistic.py:469: FutureWarning: Default multi_class will be changed to 'auto' in 0.22. Specify the multi_class option to silence this warning.\n",
      "  \"this warning.\", FutureWarning)\n",
      "c:\\program files (x86)\\python36-32\\lib\\site-packages\\sklearn\\linear_model\\logistic.py:432: FutureWarning: Default solver will be changed to 'lbfgs' in 0.22. Specify a solver to silence this warning.\n",
      "  FutureWarning)\n",
      "c:\\program files (x86)\\python36-32\\lib\\site-packages\\sklearn\\linear_model\\logistic.py:469: FutureWarning: Default multi_class will be changed to 'auto' in 0.22. Specify the multi_class option to silence this warning.\n",
      "  \"this warning.\", FutureWarning)\n"
     ]
    },
    {
     "data": {
      "image/png": "[encoded data removed]",
      "text/plain": [
       "<Figure size 432x288 with 1 Axes>"
      ]
     },
     "metadata": {
      "needs_background": "light"
     },
     "output_type": "display_data"
    },
    {
     "data": {
      "image/png": "[encoded data removed]",
      "text/plain": [
       "<Figure size 432x288 with 1 Axes>"
      ]
     },
     "metadata": {
      "needs_background": "light"
     },
     "output_type": "display_data"
    },
    {
     "data": {
      "image/png": "[encoded data removed]",
      "text/plain": [
       "<Figure size 432x288 with 1 Axes>"
      ]
     },
     "metadata": {
      "needs_background": "light"
     },
     "output_type": "display_data"
    }
   ],
   "source": [
    "# Load data\n",
    "data = pandas.read_excel('data.xls')\n",
    "\n",
    "X1 = data.to_numpy()[:, 0].reshape(-1, 1)\n",
    "X2 = data.to_numpy()[:, 1].reshape(-1, 1)\n",
    "X3 = data.to_numpy()[:, 2].reshape(-1, 1)\n",
    "y = data.to_numpy()[:, 3]\n",
    "\n",
    "# Iterate through different X values and fit linear predictors based off of them\n",
    "for X in [X1, X2, X3]:\n",
    "    model = LogisticRegression()\n",
    "    model.fit(X, y)\n",
    "    \n",
    "    y_predict = model.predict(X)\n",
    "    print(y_predict)\n",
    "\n",
    "    plt.figure()\n",
    "    sns.scatterplot(X[:, 0], y_predict)\n",
    "    sns.scatterplot(X[:, 0], y)\n"
   ]
  },
  {
   "cell_type": "markdown",
   "metadata": {},
   "source": [
    "### Problem 6B"
   ]
  },
  {
   "cell_type": "code",
   "execution_count": 10,
   "metadata": {},
   "outputs": [
    {
     "name": "stdout",
     "output_type": "stream",
     "text": [
      "[149 175 175 175 175 164 149 115 175 175 175 175 175 175 177 175 175 149\n",
      " 177 177 177 175 177 149 175]\n",
      "Residual sum of squares: 12363.00\n",
      "[175 175 175 175 152 175 175 115 175 175 175 175 192 152 175 175 147 175\n",
      " 192 192 175 175 175 152 192]\n",
      "Residual sum of squares: 12253.00\n",
      "[152 175 177 175 175 175 175 175 175 164 175 175 177 152 175 175 152 175\n",
      " 152 152 175 175 175 152 175]\n",
      "Residual sum of squares: 15835.00\n",
      "              precision    recall  f1-score   support\n",
      "\n",
      "         101       0.00      0.00      0.00         1\n",
      "         115       0.00      0.00      0.00         1\n",
      "         141       0.00      0.00      0.00         2\n",
      "         142       0.00      0.00      0.00         1\n",
      "         147       0.00      0.00      0.00         1\n",
      "         148       0.00      0.00      0.00         1\n",
      "         149       0.00      0.00      0.00         2\n",
      "         152       0.33      1.00      0.50         2\n",
      "         159       0.00      0.00      0.00         1\n",
      "         164       1.00      1.00      1.00         1\n",
      "         175       0.19      1.00      0.32         3\n",
      "         177       0.00      0.00      0.00         2\n",
      "         180       0.00      0.00      0.00         1\n",
      "         183       0.00      0.00      0.00         1\n",
      "         184       0.00      0.00      0.00         1\n",
      "         185       0.00      0.00      0.00         1\n",
      "         192       0.00      0.00      0.00         2\n",
      "         196       0.00      0.00      0.00         1\n",
      "\n",
      "    accuracy                           0.24        25\n",
      "   macro avg       0.08      0.17      0.10        25\n",
      "weighted avg       0.09      0.24      0.12        25\n",
      "\n"
     ]
    },
    {
     "name": "stderr",
     "output_type": "stream",
     "text": [
      "c:\\program files (x86)\\python36-32\\lib\\site-packages\\sklearn\\linear_model\\logistic.py:432: FutureWarning: Default solver will be changed to 'lbfgs' in 0.22. Specify a solver to silence this warning.\n",
      "  FutureWarning)\n",
      "c:\\program files (x86)\\python36-32\\lib\\site-packages\\sklearn\\linear_model\\logistic.py:469: FutureWarning: Default multi_class will be changed to 'auto' in 0.22. Specify the multi_class option to silence this warning.\n",
      "  \"this warning.\", FutureWarning)\n",
      "c:\\program files (x86)\\python36-32\\lib\\site-packages\\sklearn\\linear_model\\logistic.py:432: FutureWarning: Default solver will be changed to 'lbfgs' in 0.22. Specify a solver to silence this warning.\n",
      "  FutureWarning)\n",
      "c:\\program files (x86)\\python36-32\\lib\\site-packages\\sklearn\\linear_model\\logistic.py:469: FutureWarning: Default multi_class will be changed to 'auto' in 0.22. Specify the multi_class option to silence this warning.\n",
      "  \"this warning.\", FutureWarning)\n",
      "c:\\program files (x86)\\python36-32\\lib\\site-packages\\sklearn\\linear_model\\logistic.py:432: FutureWarning: Default solver will be changed to 'lbfgs' in 0.22. Specify a solver to silence this warning.\n",
      "  FutureWarning)\n",
      "c:\\program files (x86)\\python36-32\\lib\\site-packages\\sklearn\\linear_model\\logistic.py:469: FutureWarning: Default multi_class will be changed to 'auto' in 0.22. Specify the multi_class option to silence this warning.\n",
      "  \"this warning.\", FutureWarning)\n",
      "c:\\program files (x86)\\python36-32\\lib\\site-packages\\sklearn\\metrics\\classification.py:1437: UndefinedMetricWarning: Precision and F-score are ill-defined and being set to 0.0 in labels with no predicted samples.\n",
      "  'precision', 'predicted', average, warn_for)\n"
     ]
    }
   ],
   "source": [
    "# Iterate through different X values and fit linear predictors based off of them\n",
    "X1X2 = data.to_numpy()[:, 0:2]\n",
    "X1X3 = data.to_numpy()[:, 0:3:2]\n",
    "X2X3 = data.to_numpy()[:, 1:3]\n",
    "\n",
    "# print(X1X2)\n",
    "# print(X1X3)\n",
    "# print(X2X3)\n",
    "\n",
    "for X in [X1X2, X1X3, X2X3]:\n",
    "    model = LogisticRegression()\n",
    "    model.fit(X, y)\n",
    "    y_predict = model.predict(X)\n",
    "    print(y_predict)\n",
    "    print(\"Residual sum of squares: %.2f\"% ((y - y_predict) ** 2).sum()) \n",
    "    \n",
    "print(classification_report(y, y_predict))"
   ]
  },
  {
   "cell_type": "markdown",
   "metadata": {},
   "source": [
    "### Problem 6C"
   ]
  },
  {
   "cell_type": "code",
   "execution_count": 12,
   "metadata": {},
   "outputs": [
    {
     "name": "stdout",
     "output_type": "stream",
     "text": [
      "[149 192 177 141 142 101 149 115 175 164 141 141 152 152 148 175 147 183\n",
      " 152 152 177 175 175 149 192]\n",
      "Residual sum of squares: 5079.00\n"
     ]
    },
    {
     "name": "stderr",
     "output_type": "stream",
     "text": [
      "c:\\program files (x86)\\python36-32\\lib\\site-packages\\sklearn\\linear_model\\logistic.py:432: FutureWarning: Default solver will be changed to 'lbfgs' in 0.22. Specify a solver to silence this warning.\n",
      "  FutureWarning)\n",
      "c:\\program files (x86)\\python36-32\\lib\\site-packages\\sklearn\\linear_model\\logistic.py:469: FutureWarning: Default multi_class will be changed to 'auto' in 0.22. Specify the multi_class option to silence this warning.\n",
      "  \"this warning.\", FutureWarning)\n"
     ]
    }
   ],
   "source": [
    "X = data.to_numpy()[:, :]\n",
    "model = LogisticRegression()\n",
    "model.fit(X, y)\n",
    "y_predict = model.predict(X)\n",
    "print(y_predict)\n",
    "print(\"Residual sum of squares: %.2f\"% ((y - y_predict) ** 2).sum()) \n"
   ]
  },
  {
   "cell_type": "code",
   "execution_count": null,
   "metadata": {},
   "outputs": [],
   "source": []
  }
 ],
 "metadata": {
  "kernelspec": {
   "display_name": "Python 3",
   "language": "python",
   "name": "python3"
  },
  "language_info": {
   "codemirror_mode": {
    "name": "ipython",
    "version": 3
   },
   "file_extension": ".py",
   "mimetype": "text/x-python",
   "name": "python",
   "nbconvert_exporter": "python",
   "pygments_lexer": "ipython3",
   "version": "3.6.7"
  }
 },
 "nbformat": 4,
 "nbformat_minor": 4
}
